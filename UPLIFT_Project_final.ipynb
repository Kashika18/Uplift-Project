{
  "nbformat": 4,
  "nbformat_minor": 0,
  "metadata": {
    "colab": {
      "name": "UPLIFT_Project_final.ipynb",
      "provenance": [],
      "collapsed_sections": [],
      "include_colab_link": true
    },
    "kernelspec": {
      "name": "python3",
      "display_name": "Python 3"
    },
    "language_info": {
      "name": "python"
    }
  },
  "cells": [
    {
      "cell_type": "markdown",
      "metadata": {
        "id": "view-in-github",
        "colab_type": "text"
      },
      "source": [
        "<a href=\"https://colab.research.google.com/github/Kashika18/Uplift-Project/blob/main/UPLIFT_Project_final.ipynb\" target=\"_parent\"><img src=\"https://colab.research.google.com/assets/colab-badge.svg\" alt=\"Open In Colab\"/></a>"
      ]
    },
    {
      "cell_type": "code",
      "metadata": {
        "id": "A_0IXoDRCzvx"
      },
      "source": [
        "import pandas as pd\n",
        "import numpy as np\n",
        "import matplotlib.pyplot as plt\n",
        "import seaborn as sns"
      ],
      "execution_count": null,
      "outputs": []
    },
    {
      "cell_type": "code",
      "metadata": {
        "colab": {
          "base_uri": "https://localhost:8080/"
        },
        "id": "O-H2ClalG5oZ",
        "outputId": "5fdd57db-0234-4571-b730-a75c021c9b25"
      },
      "source": [
        "print('🇦🇫 Afghanistan - 🇦🇱 Albania - 🇩🇿 Algeria - 🇦🇷 Argentina - 🇦🇺 Australia - 🇦🇹 Austria - 🇧🇸 Bahamas - 🇧🇭 Bahrain - 🇧🇩 Bangladesh - 🇧🇾 Belarus - 🇧🇪 Belgium - 🇧🇹 Bhutan - 🇧🇴 Bolivia - 🇧🇦 Bosnia and Herzegovina - 🇧🇷 Brazil - 🇧🇳 Brunei - 🇧🇬 Bulgaria - 🇧🇫 Burkina Faso - 🇨🇲 Cameroon - 🇨🇦 Canada - 🇨🇱 Chile - 🇨🇳 China - 🇨🇴 Colombia - 🇨🇷 Costa Rica - 🇭🇷 Croatia - 🇨🇾 Cyprus - 🇨🇿 Czech Republic - 🇩🇰 Denmark - 🇩🇴 Dominican Republic - 🇪🇨 Ecuador - 🇪🇬 Egypt - 🇸🇻 El Salvador - 🇪🇪 Estonia - 🇪🇹 Ethiopia - 🇫🇮 Finland - 🇫🇷 France - 🇬🇪 Georgia - 🇩🇪 Germany - 🇬🇷 Greece - 🇬🇹 Guatemala - 🇯🇴 Hashemite Kingdom of Jordan - 🇭🇰 Hong Kong - 🇭🇺 Hungary - 🇮🇳 India - 🇮🇩 Indonesia - 🇮🇷 Iran - 🇮🇶 Iraq - 🇮🇪 Ireland - 🇮🇱 Israel - 🇮🇹 Italy - 🇯🇵 Japan - 🇰🇿 Kazakhstan - 🇰🇪 Kenya - 🇽🇰 Kosovo - 🇰🇼 Kuwait - 🇰🇬 Kyrgyzstan - 🇱🇧 Lebanon - 🇱🇺 Luxembourg - 🇲🇴 Macao - 🇲🇰 Macedonia - 🇲🇾 Malaysia - 🇲🇱 Mali - 🇲🇹 Malta - 🇲🇺 Mauritius - 🇲🇽 Mexico - 🇲🇨 Monaco - 🇲🇳 Mongolia - 🇲🇪 Montenegro - 🇲🇦 Morocco - 🇲🇲 Myanmar [Burma] - 🇳🇵 Nepal - 🇳🇱 Netherlands - 🇳🇿 New Zealand - 🇳🇬 Nigeria - 🇳🇴 Norway - 🇴🇲 Oman - 🇵🇰 Pakistan - 🇵🇦 Panama - 🇵🇬 Papua New Guinea - 🇵🇾 Paraguay - 🇵🇪 Peru - 🇵🇭 Philippines - 🇵🇱 Poland - 🇵🇹 Portugal - 🇵🇷 Puerto Rico - 🇶🇦 Qatar - 🇰🇷 Republic of Korea - 🇱🇹 Republic of Lithuania - 🇷🇴 Romania - 🇷🇺 Russia - 🇷🇼 Rwanda - 🇸🇦 Saudi Arabia - 🇸🇳 Senegal - 🇷🇸 Serbia - 🇸🇨 Seychelles - 🇸🇬 Singapore - 🇸🇰 Slovakia - 🇸🇮 Slovenia - 🇿🇦 South Africa - 🇪🇸 Spain - 🇱🇰 Sri Lanka - 🇸🇪 Sweden - 🇨🇭 Switzerland - 🇸🇾 Syria - 🇹🇼 Taiwan - 🇹🇭 Thailand - 🇹🇹 Trinidad and Tobago - 🇹🇳 Tunisia - 🇹🇷 Turkey - 🇻🇮 U.S. Virgin Islands - 🇺🇬 Uganda - 🇺🇦 Ukraine - 🇦🇪 United Arab Emirates - 🇬🇧 United Kingdom - 🇺🇸 United States - 🇺🇾 Uruguay - 🇺🇿 Uzbekistan - 🇻🇪 Venezuela - 🇻🇳 Vietnam - 🇿🇲 Zambia - 🇿🇼 Zimbabwe')"
      ],
      "execution_count": null,
      "outputs": [
        {
          "output_type": "stream",
          "text": [
            "🇦🇫 Afghanistan - 🇦🇱 Albania - 🇩🇿 Algeria - 🇦🇷 Argentina - 🇦🇺 Australia - 🇦🇹 Austria - 🇧🇸 Bahamas - 🇧🇭 Bahrain - 🇧🇩 Bangladesh - 🇧🇾 Belarus - 🇧🇪 Belgium - 🇧🇹 Bhutan - 🇧🇴 Bolivia - 🇧🇦 Bosnia and Herzegovina - 🇧🇷 Brazil - 🇧🇳 Brunei - 🇧🇬 Bulgaria - 🇧🇫 Burkina Faso - 🇨🇲 Cameroon - 🇨🇦 Canada - 🇨🇱 Chile - 🇨🇳 China - 🇨🇴 Colombia - 🇨🇷 Costa Rica - 🇭🇷 Croatia - 🇨🇾 Cyprus - 🇨🇿 Czech Republic - 🇩🇰 Denmark - 🇩🇴 Dominican Republic - 🇪🇨 Ecuador - 🇪🇬 Egypt - 🇸🇻 El Salvador - 🇪🇪 Estonia - 🇪🇹 Ethiopia - 🇫🇮 Finland - 🇫🇷 France - 🇬🇪 Georgia - 🇩🇪 Germany - 🇬🇷 Greece - 🇬🇹 Guatemala - 🇯🇴 Hashemite Kingdom of Jordan - 🇭🇰 Hong Kong - 🇭🇺 Hungary - 🇮🇳 India - 🇮🇩 Indonesia - 🇮🇷 Iran - 🇮🇶 Iraq - 🇮🇪 Ireland - 🇮🇱 Israel - 🇮🇹 Italy - 🇯🇵 Japan - 🇰🇿 Kazakhstan - 🇰🇪 Kenya - 🇽🇰 Kosovo - 🇰🇼 Kuwait - 🇰🇬 Kyrgyzstan - 🇱🇧 Lebanon - 🇱🇺 Luxembourg - 🇲🇴 Macao - 🇲🇰 Macedonia - 🇲🇾 Malaysia - 🇲🇱 Mali - 🇲🇹 Malta - 🇲🇺 Mauritius - 🇲🇽 Mexico - 🇲🇨 Monaco - 🇲🇳 Mongolia - 🇲🇪 Montenegro - 🇲🇦 Morocco - 🇲🇲 Myanmar [Burma] - 🇳🇵 Nepal - 🇳🇱 Netherlands - 🇳🇿 New Zealand - 🇳🇬 Nigeria - 🇳🇴 Norway - 🇴🇲 Oman - 🇵🇰 Pakistan - 🇵🇦 Panama - 🇵🇬 Papua New Guinea - 🇵🇾 Paraguay - 🇵🇪 Peru - 🇵🇭 Philippines - 🇵🇱 Poland - 🇵🇹 Portugal - 🇵🇷 Puerto Rico - 🇶🇦 Qatar - 🇰🇷 Republic of Korea - 🇱🇹 Republic of Lithuania - 🇷🇴 Romania - 🇷🇺 Russia - 🇷🇼 Rwanda - 🇸🇦 Saudi Arabia - 🇸🇳 Senegal - 🇷🇸 Serbia - 🇸🇨 Seychelles - 🇸🇬 Singapore - 🇸🇰 Slovakia - 🇸🇮 Slovenia - 🇿🇦 South Africa - 🇪🇸 Spain - 🇱🇰 Sri Lanka - 🇸🇪 Sweden - 🇨🇭 Switzerland - 🇸🇾 Syria - 🇹🇼 Taiwan - 🇹🇭 Thailand - 🇹🇹 Trinidad and Tobago - 🇹🇳 Tunisia - 🇹🇷 Turkey - 🇻🇮 U.S. Virgin Islands - 🇺🇬 Uganda - 🇺🇦 Ukraine - 🇦🇪 United Arab Emirates - 🇬🇧 United Kingdom - 🇺🇸 United States - 🇺🇾 Uruguay - 🇺🇿 Uzbekistan - 🇻🇪 Venezuela - 🇻🇳 Vietnam - 🇿🇲 Zambia - 🇿🇼 Zimbabwe\n"
          ],
          "name": "stdout"
        }
      ]
    },
    {
      "cell_type": "markdown",
      "metadata": {
        "id": "NzRW9GDZsmiO"
      },
      "source": [
        "## Adding Dataset for 2020-12-28 to 2021-08-06\n",
        "Goal: To predict AQI after covid lockdowns."
      ]
    },
    {
      "cell_type": "code",
      "metadata": {
        "id": "wqeouTfNGeEU"
      },
      "source": [
        "df2 = pd.read_csv('https://aqicn.org/data-platform/covid19/report/24956-d2051266/2020', skiprows = 4)"
      ],
      "execution_count": null,
      "outputs": []
    },
    {
      "cell_type": "code",
      "metadata": {
        "colab": {
          "base_uri": "https://localhost:8080/",
          "height": 202
        },
        "id": "gJPeXuCRGwBq",
        "outputId": "f6dc0723-5a57-4bd8-de7d-d93f401f0978"
      },
      "source": [
        "df2.head()"
      ],
      "execution_count": null,
      "outputs": [
        {
          "output_type": "execute_result",
          "data": {
            "text/html": [
              "<div>\n",
              "<style scoped>\n",
              "    .dataframe tbody tr th:only-of-type {\n",
              "        vertical-align: middle;\n",
              "    }\n",
              "\n",
              "    .dataframe tbody tr th {\n",
              "        vertical-align: top;\n",
              "    }\n",
              "\n",
              "    .dataframe thead th {\n",
              "        text-align: right;\n",
              "    }\n",
              "</style>\n",
              "<table border=\"1\" class=\"dataframe\">\n",
              "  <thead>\n",
              "    <tr style=\"text-align: right;\">\n",
              "      <th></th>\n",
              "      <th>Date</th>\n",
              "      <th>Country</th>\n",
              "      <th>City</th>\n",
              "      <th>Specie</th>\n",
              "      <th>count</th>\n",
              "      <th>min</th>\n",
              "      <th>max</th>\n",
              "      <th>median</th>\n",
              "      <th>variance</th>\n",
              "    </tr>\n",
              "  </thead>\n",
              "  <tbody>\n",
              "    <tr>\n",
              "      <th>0</th>\n",
              "      <td>2021-07-04</td>\n",
              "      <td>US</td>\n",
              "      <td>Oklahoma City</td>\n",
              "      <td>o3</td>\n",
              "      <td>46</td>\n",
              "      <td>9.6</td>\n",
              "      <td>39.2</td>\n",
              "      <td>28.9</td>\n",
              "      <td>895.83</td>\n",
              "    </tr>\n",
              "    <tr>\n",
              "      <th>1</th>\n",
              "      <td>2021-08-03</td>\n",
              "      <td>US</td>\n",
              "      <td>Oklahoma City</td>\n",
              "      <td>o3</td>\n",
              "      <td>48</td>\n",
              "      <td>7.3</td>\n",
              "      <td>48.8</td>\n",
              "      <td>28.9</td>\n",
              "      <td>1229.54</td>\n",
              "    </tr>\n",
              "    <tr>\n",
              "      <th>2</th>\n",
              "      <td>2021-02-12</td>\n",
              "      <td>US</td>\n",
              "      <td>Oklahoma City</td>\n",
              "      <td>o3</td>\n",
              "      <td>45</td>\n",
              "      <td>22.4</td>\n",
              "      <td>26.4</td>\n",
              "      <td>25.6</td>\n",
              "      <td>12.14</td>\n",
              "    </tr>\n",
              "    <tr>\n",
              "      <th>3</th>\n",
              "      <td>2021-03-11</td>\n",
              "      <td>US</td>\n",
              "      <td>Oklahoma City</td>\n",
              "      <td>o3</td>\n",
              "      <td>47</td>\n",
              "      <td>7.3</td>\n",
              "      <td>33.6</td>\n",
              "      <td>16.0</td>\n",
              "      <td>364.12</td>\n",
              "    </tr>\n",
              "    <tr>\n",
              "      <th>4</th>\n",
              "      <td>2021-05-08</td>\n",
              "      <td>US</td>\n",
              "      <td>Oklahoma City</td>\n",
              "      <td>o3</td>\n",
              "      <td>48</td>\n",
              "      <td>29.6</td>\n",
              "      <td>44.8</td>\n",
              "      <td>37.6</td>\n",
              "      <td>135.62</td>\n",
              "    </tr>\n",
              "  </tbody>\n",
              "</table>\n",
              "</div>"
            ],
            "text/plain": [
              "         Date Country           City Specie  ...   min   max  median  variance\n",
              "0  2021-07-04      US  Oklahoma City     o3  ...   9.6  39.2    28.9    895.83\n",
              "1  2021-08-03      US  Oklahoma City     o3  ...   7.3  48.8    28.9   1229.54\n",
              "2  2021-02-12      US  Oklahoma City     o3  ...  22.4  26.4    25.6     12.14\n",
              "3  2021-03-11      US  Oklahoma City     o3  ...   7.3  33.6    16.0    364.12\n",
              "4  2021-05-08      US  Oklahoma City     o3  ...  29.6  44.8    37.6    135.62\n",
              "\n",
              "[5 rows x 9 columns]"
            ]
          },
          "metadata": {
            "tags": []
          },
          "execution_count": 4
        }
      ]
    },
    {
      "cell_type": "code",
      "metadata": {
        "colab": {
          "base_uri": "https://localhost:8080/",
          "height": 35
        },
        "id": "40Hl1QyMQj7-",
        "outputId": "a38e7158-c8c7-495d-98a1-db5120eea21a"
      },
      "source": [
        "df2['Date'] = pd.to_datetime(df2['Date']) # Date column is of the type object, converting it to datetime\n",
        "date_range = str(df2['Date'].dt.date.min()) + ' to ' +str(df2['Date'].dt.date.max())\n",
        "date_range"
      ],
      "execution_count": null,
      "outputs": [
        {
          "output_type": "execute_result",
          "data": {
            "application/vnd.google.colaboratory.intrinsic+json": {
              "type": "string"
            },
            "text/plain": [
              "'2020-12-28 to 2021-08-08'"
            ]
          },
          "metadata": {
            "tags": []
          },
          "execution_count": 5
        }
      ]
    },
    {
      "cell_type": "code",
      "metadata": {
        "colab": {
          "base_uri": "https://localhost:8080/"
        },
        "id": "OjLpHeMDJC6N",
        "outputId": "d60a7b13-b537-410b-976e-808c8b3161fa"
      },
      "source": [
        "df2.Specie.unique()"
      ],
      "execution_count": null,
      "outputs": [
        {
          "output_type": "execute_result",
          "data": {
            "text/plain": [
              "array(['o3', 'no2', 'wind-speed', 'dew', 'pressure', 'wind-gust', 'so2',\n",
              "       'co', 'temperature', 'pm10', 'humidity', 'pm25', 'wd',\n",
              "       'precipitation', 'pm1', 'neph', 'uvi', 'aqi', 'mepaqi'],\n",
              "      dtype=object)"
            ]
          },
          "metadata": {
            "tags": []
          },
          "execution_count": 6
        }
      ]
    },
    {
      "cell_type": "markdown",
      "metadata": {
        "id": "tQCJr1_ts-HH"
      },
      "source": [
        "The above parameters are available but we will be focusing on AQI as that gives an overview of the cumulative pollution level."
      ]
    },
    {
      "cell_type": "code",
      "metadata": {
        "colab": {
          "base_uri": "https://localhost:8080/",
          "height": 356
        },
        "id": "1wTy-NGVYB1k",
        "outputId": "e5a966d2-43ea-4a76-9116-1b7b397cfa1e"
      },
      "source": [
        "# Filtering database based on AQI, hence leaving behind all other parameters.\n",
        "df_new=df2[df2.Specie == 'aqi']\n",
        "df_new.head(10)"
      ],
      "execution_count": null,
      "outputs": [
        {
          "output_type": "execute_result",
          "data": {
            "text/html": [
              "<div>\n",
              "<style scoped>\n",
              "    .dataframe tbody tr th:only-of-type {\n",
              "        vertical-align: middle;\n",
              "    }\n",
              "\n",
              "    .dataframe tbody tr th {\n",
              "        vertical-align: top;\n",
              "    }\n",
              "\n",
              "    .dataframe thead th {\n",
              "        text-align: right;\n",
              "    }\n",
              "</style>\n",
              "<table border=\"1\" class=\"dataframe\">\n",
              "  <thead>\n",
              "    <tr style=\"text-align: right;\">\n",
              "      <th></th>\n",
              "      <th>Date</th>\n",
              "      <th>Country</th>\n",
              "      <th>City</th>\n",
              "      <th>Specie</th>\n",
              "      <th>count</th>\n",
              "      <th>min</th>\n",
              "      <th>max</th>\n",
              "      <th>median</th>\n",
              "      <th>variance</th>\n",
              "    </tr>\n",
              "  </thead>\n",
              "  <tbody>\n",
              "    <tr>\n",
              "      <th>327561</th>\n",
              "      <td>2021-01-18</td>\n",
              "      <td>MY</td>\n",
              "      <td>Kuantan</td>\n",
              "      <td>aqi</td>\n",
              "      <td>78</td>\n",
              "      <td>39.0</td>\n",
              "      <td>64.0</td>\n",
              "      <td>46.0</td>\n",
              "      <td>697.20</td>\n",
              "    </tr>\n",
              "    <tr>\n",
              "      <th>327562</th>\n",
              "      <td>2021-02-12</td>\n",
              "      <td>MY</td>\n",
              "      <td>Kuantan</td>\n",
              "      <td>aqi</td>\n",
              "      <td>105</td>\n",
              "      <td>22.0</td>\n",
              "      <td>84.0</td>\n",
              "      <td>35.0</td>\n",
              "      <td>3096.94</td>\n",
              "    </tr>\n",
              "    <tr>\n",
              "      <th>327563</th>\n",
              "      <td>2021-03-29</td>\n",
              "      <td>MY</td>\n",
              "      <td>Kuantan</td>\n",
              "      <td>aqi</td>\n",
              "      <td>34</td>\n",
              "      <td>21.0</td>\n",
              "      <td>53.0</td>\n",
              "      <td>30.0</td>\n",
              "      <td>1044.32</td>\n",
              "    </tr>\n",
              "    <tr>\n",
              "      <th>327564</th>\n",
              "      <td>2021-02-11</td>\n",
              "      <td>MY</td>\n",
              "      <td>Kuantan</td>\n",
              "      <td>aqi</td>\n",
              "      <td>107</td>\n",
              "      <td>21.0</td>\n",
              "      <td>80.0</td>\n",
              "      <td>36.0</td>\n",
              "      <td>2476.46</td>\n",
              "    </tr>\n",
              "    <tr>\n",
              "      <th>327565</th>\n",
              "      <td>2021-03-15</td>\n",
              "      <td>MY</td>\n",
              "      <td>Kuantan</td>\n",
              "      <td>aqi</td>\n",
              "      <td>97</td>\n",
              "      <td>33.0</td>\n",
              "      <td>68.0</td>\n",
              "      <td>39.0</td>\n",
              "      <td>1211.41</td>\n",
              "    </tr>\n",
              "    <tr>\n",
              "      <th>327566</th>\n",
              "      <td>2021-04-25</td>\n",
              "      <td>MY</td>\n",
              "      <td>Kuantan</td>\n",
              "      <td>aqi</td>\n",
              "      <td>107</td>\n",
              "      <td>32.0</td>\n",
              "      <td>72.0</td>\n",
              "      <td>43.0</td>\n",
              "      <td>1316.40</td>\n",
              "    </tr>\n",
              "    <tr>\n",
              "      <th>327567</th>\n",
              "      <td>2021-01-03</td>\n",
              "      <td>MY</td>\n",
              "      <td>Kuantan</td>\n",
              "      <td>aqi</td>\n",
              "      <td>103</td>\n",
              "      <td>14.0</td>\n",
              "      <td>78.0</td>\n",
              "      <td>20.0</td>\n",
              "      <td>4757.81</td>\n",
              "    </tr>\n",
              "    <tr>\n",
              "      <th>327568</th>\n",
              "      <td>2021-05-06</td>\n",
              "      <td>MY</td>\n",
              "      <td>Kuantan</td>\n",
              "      <td>aqi</td>\n",
              "      <td>106</td>\n",
              "      <td>17.0</td>\n",
              "      <td>46.0</td>\n",
              "      <td>32.0</td>\n",
              "      <td>562.64</td>\n",
              "    </tr>\n",
              "    <tr>\n",
              "      <th>327569</th>\n",
              "      <td>2021-01-28</td>\n",
              "      <td>MY</td>\n",
              "      <td>Kuantan</td>\n",
              "      <td>aqi</td>\n",
              "      <td>108</td>\n",
              "      <td>22.0</td>\n",
              "      <td>75.0</td>\n",
              "      <td>27.0</td>\n",
              "      <td>3177.66</td>\n",
              "    </tr>\n",
              "    <tr>\n",
              "      <th>327570</th>\n",
              "      <td>2021-06-14</td>\n",
              "      <td>MY</td>\n",
              "      <td>Kuantan</td>\n",
              "      <td>aqi</td>\n",
              "      <td>101</td>\n",
              "      <td>32.0</td>\n",
              "      <td>61.0</td>\n",
              "      <td>50.0</td>\n",
              "      <td>521.34</td>\n",
              "    </tr>\n",
              "  </tbody>\n",
              "</table>\n",
              "</div>"
            ],
            "text/plain": [
              "             Date Country     City Specie  count   min   max  median  variance\n",
              "327561 2021-01-18      MY  Kuantan    aqi     78  39.0  64.0    46.0    697.20\n",
              "327562 2021-02-12      MY  Kuantan    aqi    105  22.0  84.0    35.0   3096.94\n",
              "327563 2021-03-29      MY  Kuantan    aqi     34  21.0  53.0    30.0   1044.32\n",
              "327564 2021-02-11      MY  Kuantan    aqi    107  21.0  80.0    36.0   2476.46\n",
              "327565 2021-03-15      MY  Kuantan    aqi     97  33.0  68.0    39.0   1211.41\n",
              "327566 2021-04-25      MY  Kuantan    aqi    107  32.0  72.0    43.0   1316.40\n",
              "327567 2021-01-03      MY  Kuantan    aqi    103  14.0  78.0    20.0   4757.81\n",
              "327568 2021-05-06      MY  Kuantan    aqi    106  17.0  46.0    32.0    562.64\n",
              "327569 2021-01-28      MY  Kuantan    aqi    108  22.0  75.0    27.0   3177.66\n",
              "327570 2021-06-14      MY  Kuantan    aqi    101  32.0  61.0    50.0    521.34"
            ]
          },
          "metadata": {
            "tags": []
          },
          "execution_count": 7
        }
      ]
    },
    {
      "cell_type": "markdown",
      "metadata": {
        "id": "gtJWTM4uzXtp"
      },
      "source": [
        "As seen above, several cities of a specific country are available, so we will club their data to find the median AQI of the country they beling to."
      ]
    },
    {
      "cell_type": "code",
      "metadata": {
        "colab": {
          "base_uri": "https://localhost:8080/",
          "height": 202
        },
        "id": "XN8JvJw1fFfN",
        "outputId": "a4a2d73e-45e6-40f8-a138-dafc190d2a2d"
      },
      "source": [
        "df_new = df_new.groupby(['Date', 'Country'])['median'].mean().reset_index()\n",
        "df_new.head()"
      ],
      "execution_count": null,
      "outputs": [
        {
          "output_type": "execute_result",
          "data": {
            "text/html": [
              "<div>\n",
              "<style scoped>\n",
              "    .dataframe tbody tr th:only-of-type {\n",
              "        vertical-align: middle;\n",
              "    }\n",
              "\n",
              "    .dataframe tbody tr th {\n",
              "        vertical-align: top;\n",
              "    }\n",
              "\n",
              "    .dataframe thead th {\n",
              "        text-align: right;\n",
              "    }\n",
              "</style>\n",
              "<table border=\"1\" class=\"dataframe\">\n",
              "  <thead>\n",
              "    <tr style=\"text-align: right;\">\n",
              "      <th></th>\n",
              "      <th>Date</th>\n",
              "      <th>Country</th>\n",
              "      <th>median</th>\n",
              "    </tr>\n",
              "  </thead>\n",
              "  <tbody>\n",
              "    <tr>\n",
              "      <th>0</th>\n",
              "      <td>2020-12-28</td>\n",
              "      <td>CN</td>\n",
              "      <td>206.000000</td>\n",
              "    </tr>\n",
              "    <tr>\n",
              "      <th>1</th>\n",
              "      <td>2020-12-28</td>\n",
              "      <td>MY</td>\n",
              "      <td>39.000000</td>\n",
              "    </tr>\n",
              "    <tr>\n",
              "      <th>2</th>\n",
              "      <td>2020-12-28</td>\n",
              "      <td>VN</td>\n",
              "      <td>160.000000</td>\n",
              "    </tr>\n",
              "    <tr>\n",
              "      <th>3</th>\n",
              "      <td>2020-12-29</td>\n",
              "      <td>CN</td>\n",
              "      <td>69.000000</td>\n",
              "    </tr>\n",
              "    <tr>\n",
              "      <th>4</th>\n",
              "      <td>2020-12-29</td>\n",
              "      <td>MY</td>\n",
              "      <td>44.384615</td>\n",
              "    </tr>\n",
              "  </tbody>\n",
              "</table>\n",
              "</div>"
            ],
            "text/plain": [
              "        Date Country      median\n",
              "0 2020-12-28      CN  206.000000\n",
              "1 2020-12-28      MY   39.000000\n",
              "2 2020-12-28      VN  160.000000\n",
              "3 2020-12-29      CN   69.000000\n",
              "4 2020-12-29      MY   44.384615"
            ]
          },
          "metadata": {
            "tags": []
          },
          "execution_count": 8
        }
      ]
    },
    {
      "cell_type": "markdown",
      "metadata": {
        "id": "SsWSUdqqzAbx"
      },
      "source": [
        "As we will be taking the Median AQI of world for a specific set of days into consideration, therefore we take the mean of the median AQI of different countries present for a specific day."
      ]
    },
    {
      "cell_type": "code",
      "metadata": {
        "colab": {
          "base_uri": "https://localhost:8080/",
          "height": 202
        },
        "id": "o1DUTpxtgoEV",
        "outputId": "74835842-3707-4e18-bba5-945ebc67825e"
      },
      "source": [
        "df_new = df_new.groupby(['Date'])['median'].mean().reset_index()\n",
        "df_new.head()"
      ],
      "execution_count": null,
      "outputs": [
        {
          "output_type": "execute_result",
          "data": {
            "text/html": [
              "<div>\n",
              "<style scoped>\n",
              "    .dataframe tbody tr th:only-of-type {\n",
              "        vertical-align: middle;\n",
              "    }\n",
              "\n",
              "    .dataframe tbody tr th {\n",
              "        vertical-align: top;\n",
              "    }\n",
              "\n",
              "    .dataframe thead th {\n",
              "        text-align: right;\n",
              "    }\n",
              "</style>\n",
              "<table border=\"1\" class=\"dataframe\">\n",
              "  <thead>\n",
              "    <tr style=\"text-align: right;\">\n",
              "      <th></th>\n",
              "      <th>Date</th>\n",
              "      <th>median</th>\n",
              "    </tr>\n",
              "  </thead>\n",
              "  <tbody>\n",
              "    <tr>\n",
              "      <th>0</th>\n",
              "      <td>2020-12-28</td>\n",
              "      <td>135.000000</td>\n",
              "    </tr>\n",
              "    <tr>\n",
              "      <th>1</th>\n",
              "      <td>2020-12-29</td>\n",
              "      <td>69.794872</td>\n",
              "    </tr>\n",
              "    <tr>\n",
              "      <th>2</th>\n",
              "      <td>2020-12-30</td>\n",
              "      <td>45.961538</td>\n",
              "    </tr>\n",
              "    <tr>\n",
              "      <th>3</th>\n",
              "      <td>2020-12-31</td>\n",
              "      <td>57.346154</td>\n",
              "    </tr>\n",
              "    <tr>\n",
              "      <th>4</th>\n",
              "      <td>2021-01-01</td>\n",
              "      <td>70.884615</td>\n",
              "    </tr>\n",
              "  </tbody>\n",
              "</table>\n",
              "</div>"
            ],
            "text/plain": [
              "        Date      median\n",
              "0 2020-12-28  135.000000\n",
              "1 2020-12-29   69.794872\n",
              "2 2020-12-30   45.961538\n",
              "3 2020-12-31   57.346154\n",
              "4 2021-01-01   70.884615"
            ]
          },
          "metadata": {
            "tags": []
          },
          "execution_count": 9
        }
      ]
    },
    {
      "cell_type": "markdown",
      "metadata": {
        "id": "9odUJRX9QCy7"
      },
      "source": [
        "The most typical particulates in the air are:\n",
        "\n",
        "- **PM1** – particles <1 μm in size. Examples: dust, combustion particles*, bacteria and viruses.\n",
        "- **PM2.5** – particles <2.5 μm in size. Examples: pollen, spoors and other organic particles.\n",
        "- **PM10** – particles <10 μm in size. Examples: coarser fine dust and organic particles."
      ]
    },
    {
      "cell_type": "markdown",
      "metadata": {
        "id": "b2PEq2aGO6eb"
      },
      "source": [
        "**PM2.5:** PM2.5 describes fine inhalable particles, with diameters that are generally 2.5 micrometers and smaller.\n",
        "\n",
        "Both PM2.5 and PM10 can be inhaled, with some depositing throughout the airways, though the locations of particle deposition in the lung depend on particle size. PM2.5 is more likely to travel into and deposit on the surface of the deeper parts of the lung, while PM10 is more likely to deposit on the surfaces of the larger airways of the upper region of the lung. Particles deposited on the lung surface can induce tissue damage, and lung inflammation.\n",
        "\n",
        "Our lungs are prey to PM1. When inhaled, PM1 particles travel to the deepest area of the lungs, where a significant part of them passes through the cell membranes of the alveoli (the millions of tiny sacs in our lungs where O2 and CO2 are exchanged), enter the bloodstream, damage the inner walls of arteries, penetrate tissue in the cardiovascular system and potentially spread to organs.\n",
        "\n",
        "At worst, PM1 can contribute to deadly diseases like heart attacks, lung cancer, dementia, emphysema, edema and other serious disease, leading to premature death."
      ]
    },
    {
      "cell_type": "markdown",
      "metadata": {
        "id": "AzxP7LlvtS1f"
      },
      "source": [
        "## Adding Dataset for 2019-09-30 to 2020-01-05 \n",
        "Goal: Train the model on this dataset"
      ]
    },
    {
      "cell_type": "code",
      "metadata": {
        "id": "Zvzs7mQRRSgF"
      },
      "source": [
        "df3 = pd.read_csv('https://aqicn.org/data-platform/covid19/report/24956-d2051266/2019Q4', skiprows = 4)"
      ],
      "execution_count": null,
      "outputs": []
    },
    {
      "cell_type": "code",
      "metadata": {
        "colab": {
          "base_uri": "https://localhost:8080/",
          "height": 202
        },
        "id": "jQTWhornRqq1",
        "outputId": "fdf4f4d7-b53e-4fe5-eeea-6be78d15c208"
      },
      "source": [
        "df3.head()"
      ],
      "execution_count": null,
      "outputs": [
        {
          "output_type": "execute_result",
          "data": {
            "text/html": [
              "<div>\n",
              "<style scoped>\n",
              "    .dataframe tbody tr th:only-of-type {\n",
              "        vertical-align: middle;\n",
              "    }\n",
              "\n",
              "    .dataframe tbody tr th {\n",
              "        vertical-align: top;\n",
              "    }\n",
              "\n",
              "    .dataframe thead th {\n",
              "        text-align: right;\n",
              "    }\n",
              "</style>\n",
              "<table border=\"1\" class=\"dataframe\">\n",
              "  <thead>\n",
              "    <tr style=\"text-align: right;\">\n",
              "      <th></th>\n",
              "      <th>Date</th>\n",
              "      <th>Country</th>\n",
              "      <th>City</th>\n",
              "      <th>Specie</th>\n",
              "      <th>count</th>\n",
              "      <th>min</th>\n",
              "      <th>max</th>\n",
              "      <th>median</th>\n",
              "      <th>variance</th>\n",
              "    </tr>\n",
              "  </thead>\n",
              "  <tbody>\n",
              "    <tr>\n",
              "      <th>0</th>\n",
              "      <td>2019-11-02</td>\n",
              "      <td>HU</td>\n",
              "      <td>Debrecen</td>\n",
              "      <td>o3</td>\n",
              "      <td>72</td>\n",
              "      <td>1.9</td>\n",
              "      <td>12.2</td>\n",
              "      <td>7.0</td>\n",
              "      <td>59.60</td>\n",
              "    </tr>\n",
              "    <tr>\n",
              "      <th>1</th>\n",
              "      <td>2019-11-11</td>\n",
              "      <td>HU</td>\n",
              "      <td>Debrecen</td>\n",
              "      <td>o3</td>\n",
              "      <td>66</td>\n",
              "      <td>0.6</td>\n",
              "      <td>15.2</td>\n",
              "      <td>7.1</td>\n",
              "      <td>151.12</td>\n",
              "    </tr>\n",
              "    <tr>\n",
              "      <th>2</th>\n",
              "      <td>2019-11-12</td>\n",
              "      <td>HU</td>\n",
              "      <td>Debrecen</td>\n",
              "      <td>o3</td>\n",
              "      <td>65</td>\n",
              "      <td>2.3</td>\n",
              "      <td>18.9</td>\n",
              "      <td>12.0</td>\n",
              "      <td>193.29</td>\n",
              "    </tr>\n",
              "    <tr>\n",
              "      <th>3</th>\n",
              "      <td>2019-12-22</td>\n",
              "      <td>HU</td>\n",
              "      <td>Debrecen</td>\n",
              "      <td>o3</td>\n",
              "      <td>45</td>\n",
              "      <td>11.3</td>\n",
              "      <td>24.1</td>\n",
              "      <td>18.6</td>\n",
              "      <td>110.54</td>\n",
              "    </tr>\n",
              "    <tr>\n",
              "      <th>4</th>\n",
              "      <td>2020-01-05</td>\n",
              "      <td>HU</td>\n",
              "      <td>Debrecen</td>\n",
              "      <td>o3</td>\n",
              "      <td>34</td>\n",
              "      <td>1.6</td>\n",
              "      <td>26.4</td>\n",
              "      <td>16.7</td>\n",
              "      <td>586.81</td>\n",
              "    </tr>\n",
              "  </tbody>\n",
              "</table>\n",
              "</div>"
            ],
            "text/plain": [
              "         Date Country      City Specie  count   min   max  median  variance\n",
              "0  2019-11-02      HU  Debrecen     o3     72   1.9  12.2     7.0     59.60\n",
              "1  2019-11-11      HU  Debrecen     o3     66   0.6  15.2     7.1    151.12\n",
              "2  2019-11-12      HU  Debrecen     o3     65   2.3  18.9    12.0    193.29\n",
              "3  2019-12-22      HU  Debrecen     o3     45  11.3  24.1    18.6    110.54\n",
              "4  2020-01-05      HU  Debrecen     o3     34   1.6  26.4    16.7    586.81"
            ]
          },
          "metadata": {
            "tags": []
          },
          "execution_count": 11
        }
      ]
    },
    {
      "cell_type": "code",
      "metadata": {
        "colab": {
          "base_uri": "https://localhost:8080/"
        },
        "id": "ThZVFIScTUSo",
        "outputId": "fe21d240-a467-4402-a141-8e36c7da0abe"
      },
      "source": [
        "df3.Specie.unique()"
      ],
      "execution_count": null,
      "outputs": [
        {
          "output_type": "execute_result",
          "data": {
            "text/plain": [
              "array(['o3', 'so2', 'pressure', 'temperature', 'humidity', 'no2',\n",
              "       'wind-speed', 'wind speed', 'wind gust', 'precipitation', 'dew',\n",
              "       'co', 'pm10', 'wind-gust', 'pm25', 'wd', 'pm1', 'neph', 'aqi',\n",
              "       'pol', 'uvi', 'mepaqi'], dtype=object)"
            ]
          },
          "metadata": {
            "tags": []
          },
          "execution_count": 12
        }
      ]
    },
    {
      "cell_type": "code",
      "metadata": {
        "colab": {
          "base_uri": "https://localhost:8080/",
          "height": 35
        },
        "id": "-VX13hh2Tdqu",
        "outputId": "985345e7-81dc-45ef-e415-66e7c29bcb9f"
      },
      "source": [
        "df3['Date'] = pd.to_datetime(df3['Date']) # Date column is of the type object, converting it to datetime\n",
        "date_range = str(df3['Date'].dt.date.min()) + ' to ' +str(df3['Date'].dt.date.max())\n",
        "date_range"
      ],
      "execution_count": null,
      "outputs": [
        {
          "output_type": "execute_result",
          "data": {
            "application/vnd.google.colaboratory.intrinsic+json": {
              "type": "string"
            },
            "text/plain": [
              "'2019-09-30 to 2020-01-05'"
            ]
          },
          "metadata": {
            "tags": []
          },
          "execution_count": 13
        }
      ]
    },
    {
      "cell_type": "code",
      "metadata": {
        "id": "pXGHG9U2X3-X",
        "colab": {
          "base_uri": "https://localhost:8080/",
          "height": 202
        },
        "outputId": "336818e8-bbbb-4324-a837-7bcf4aece325"
      },
      "source": [
        "df_old=df3[df3.Specie == 'aqi']\n",
        "df_old.head()"
      ],
      "execution_count": null,
      "outputs": [
        {
          "output_type": "execute_result",
          "data": {
            "text/html": [
              "<div>\n",
              "<style scoped>\n",
              "    .dataframe tbody tr th:only-of-type {\n",
              "        vertical-align: middle;\n",
              "    }\n",
              "\n",
              "    .dataframe tbody tr th {\n",
              "        vertical-align: top;\n",
              "    }\n",
              "\n",
              "    .dataframe thead th {\n",
              "        text-align: right;\n",
              "    }\n",
              "</style>\n",
              "<table border=\"1\" class=\"dataframe\">\n",
              "  <thead>\n",
              "    <tr style=\"text-align: right;\">\n",
              "      <th></th>\n",
              "      <th>Date</th>\n",
              "      <th>Country</th>\n",
              "      <th>City</th>\n",
              "      <th>Specie</th>\n",
              "      <th>count</th>\n",
              "      <th>min</th>\n",
              "      <th>max</th>\n",
              "      <th>median</th>\n",
              "      <th>variance</th>\n",
              "    </tr>\n",
              "  </thead>\n",
              "  <tbody>\n",
              "    <tr>\n",
              "      <th>122628</th>\n",
              "      <td>2020-01-01</td>\n",
              "      <td>AU</td>\n",
              "      <td>Adelaide</td>\n",
              "      <td>aqi</td>\n",
              "      <td>165</td>\n",
              "      <td>35.0</td>\n",
              "      <td>94.0</td>\n",
              "      <td>54.0</td>\n",
              "      <td>2306.27</td>\n",
              "    </tr>\n",
              "    <tr>\n",
              "      <th>122629</th>\n",
              "      <td>2020-01-02</td>\n",
              "      <td>AU</td>\n",
              "      <td>Adelaide</td>\n",
              "      <td>aqi</td>\n",
              "      <td>148</td>\n",
              "      <td>46.0</td>\n",
              "      <td>92.0</td>\n",
              "      <td>69.0</td>\n",
              "      <td>1815.02</td>\n",
              "    </tr>\n",
              "    <tr>\n",
              "      <th>122630</th>\n",
              "      <td>2020-01-03</td>\n",
              "      <td>AU</td>\n",
              "      <td>Adelaide</td>\n",
              "      <td>aqi</td>\n",
              "      <td>162</td>\n",
              "      <td>51.0</td>\n",
              "      <td>116.0</td>\n",
              "      <td>68.0</td>\n",
              "      <td>1889.03</td>\n",
              "    </tr>\n",
              "    <tr>\n",
              "      <th>122631</th>\n",
              "      <td>2020-01-04</td>\n",
              "      <td>AU</td>\n",
              "      <td>Adelaide</td>\n",
              "      <td>aqi</td>\n",
              "      <td>159</td>\n",
              "      <td>56.0</td>\n",
              "      <td>121.0</td>\n",
              "      <td>81.0</td>\n",
              "      <td>2362.08</td>\n",
              "    </tr>\n",
              "    <tr>\n",
              "      <th>122632</th>\n",
              "      <td>2020-01-05</td>\n",
              "      <td>AU</td>\n",
              "      <td>Adelaide</td>\n",
              "      <td>aqi</td>\n",
              "      <td>166</td>\n",
              "      <td>12.0</td>\n",
              "      <td>87.0</td>\n",
              "      <td>47.0</td>\n",
              "      <td>2203.08</td>\n",
              "    </tr>\n",
              "  </tbody>\n",
              "</table>\n",
              "</div>"
            ],
            "text/plain": [
              "             Date Country      City Specie  ...   min    max  median  variance\n",
              "122628 2020-01-01      AU  Adelaide    aqi  ...  35.0   94.0    54.0   2306.27\n",
              "122629 2020-01-02      AU  Adelaide    aqi  ...  46.0   92.0    69.0   1815.02\n",
              "122630 2020-01-03      AU  Adelaide    aqi  ...  51.0  116.0    68.0   1889.03\n",
              "122631 2020-01-04      AU  Adelaide    aqi  ...  56.0  121.0    81.0   2362.08\n",
              "122632 2020-01-05      AU  Adelaide    aqi  ...  12.0   87.0    47.0   2203.08\n",
              "\n",
              "[5 rows x 9 columns]"
            ]
          },
          "metadata": {
            "tags": []
          },
          "execution_count": 14
        }
      ]
    },
    {
      "cell_type": "code",
      "metadata": {
        "colab": {
          "base_uri": "https://localhost:8080/"
        },
        "id": "0ZLtXyBoacdH",
        "outputId": "7e7f8cca-04b0-4edb-a051-fd97a637a296"
      },
      "source": [
        "df_old.columns"
      ],
      "execution_count": null,
      "outputs": [
        {
          "output_type": "execute_result",
          "data": {
            "text/plain": [
              "Index(['Date', 'Country', 'City', 'Specie', 'count', 'min', 'max', 'median',\n",
              "       'variance'],\n",
              "      dtype='object')"
            ]
          },
          "metadata": {
            "tags": []
          },
          "execution_count": 15
        }
      ]
    },
    {
      "cell_type": "code",
      "metadata": {
        "colab": {
          "base_uri": "https://localhost:8080/",
          "height": 202
        },
        "id": "YlTCp10wYvgM",
        "outputId": "d92989c4-dbe5-4c68-ccd1-8a34e8f83316"
      },
      "source": [
        "df_old = df_old.groupby(['Date', 'Country'])['median'].mean().reset_index()\n",
        "df_old.head()"
      ],
      "execution_count": null,
      "outputs": [
        {
          "output_type": "execute_result",
          "data": {
            "text/html": [
              "<div>\n",
              "<style scoped>\n",
              "    .dataframe tbody tr th:only-of-type {\n",
              "        vertical-align: middle;\n",
              "    }\n",
              "\n",
              "    .dataframe tbody tr th {\n",
              "        vertical-align: top;\n",
              "    }\n",
              "\n",
              "    .dataframe thead th {\n",
              "        text-align: right;\n",
              "    }\n",
              "</style>\n",
              "<table border=\"1\" class=\"dataframe\">\n",
              "  <thead>\n",
              "    <tr style=\"text-align: right;\">\n",
              "      <th></th>\n",
              "      <th>Date</th>\n",
              "      <th>Country</th>\n",
              "      <th>median</th>\n",
              "    </tr>\n",
              "  </thead>\n",
              "  <tbody>\n",
              "    <tr>\n",
              "      <th>0</th>\n",
              "      <td>2019-09-30</td>\n",
              "      <td>MY</td>\n",
              "      <td>52.000000</td>\n",
              "    </tr>\n",
              "    <tr>\n",
              "      <th>1</th>\n",
              "      <td>2019-09-30</td>\n",
              "      <td>VN</td>\n",
              "      <td>119.000000</td>\n",
              "    </tr>\n",
              "    <tr>\n",
              "      <th>2</th>\n",
              "      <td>2019-10-01</td>\n",
              "      <td>MY</td>\n",
              "      <td>52.615385</td>\n",
              "    </tr>\n",
              "    <tr>\n",
              "      <th>3</th>\n",
              "      <td>2019-10-01</td>\n",
              "      <td>VN</td>\n",
              "      <td>147.000000</td>\n",
              "    </tr>\n",
              "    <tr>\n",
              "      <th>4</th>\n",
              "      <td>2019-10-02</td>\n",
              "      <td>CN</td>\n",
              "      <td>113.000000</td>\n",
              "    </tr>\n",
              "  </tbody>\n",
              "</table>\n",
              "</div>"
            ],
            "text/plain": [
              "        Date Country      median\n",
              "0 2019-09-30      MY   52.000000\n",
              "1 2019-09-30      VN  119.000000\n",
              "2 2019-10-01      MY   52.615385\n",
              "3 2019-10-01      VN  147.000000\n",
              "4 2019-10-02      CN  113.000000"
            ]
          },
          "metadata": {
            "tags": []
          },
          "execution_count": 16
        }
      ]
    },
    {
      "cell_type": "code",
      "metadata": {
        "colab": {
          "base_uri": "https://localhost:8080/",
          "height": 202
        },
        "id": "CwWGWZMZhWwN",
        "outputId": "8ef69058-2cf4-4cbf-e576-edd676387d3a"
      },
      "source": [
        "df_old = df_old.groupby(['Date'])['median'].mean().reset_index()\n",
        "df_old.head()"
      ],
      "execution_count": null,
      "outputs": [
        {
          "output_type": "execute_result",
          "data": {
            "text/html": [
              "<div>\n",
              "<style scoped>\n",
              "    .dataframe tbody tr th:only-of-type {\n",
              "        vertical-align: middle;\n",
              "    }\n",
              "\n",
              "    .dataframe tbody tr th {\n",
              "        vertical-align: top;\n",
              "    }\n",
              "\n",
              "    .dataframe thead th {\n",
              "        text-align: right;\n",
              "    }\n",
              "</style>\n",
              "<table border=\"1\" class=\"dataframe\">\n",
              "  <thead>\n",
              "    <tr style=\"text-align: right;\">\n",
              "      <th></th>\n",
              "      <th>Date</th>\n",
              "      <th>median</th>\n",
              "    </tr>\n",
              "  </thead>\n",
              "  <tbody>\n",
              "    <tr>\n",
              "      <th>0</th>\n",
              "      <td>2019-09-30</td>\n",
              "      <td>85.500000</td>\n",
              "    </tr>\n",
              "    <tr>\n",
              "      <th>1</th>\n",
              "      <td>2019-10-01</td>\n",
              "      <td>99.807692</td>\n",
              "    </tr>\n",
              "    <tr>\n",
              "      <th>2</th>\n",
              "      <td>2019-10-02</td>\n",
              "      <td>112.076923</td>\n",
              "    </tr>\n",
              "    <tr>\n",
              "      <th>3</th>\n",
              "      <td>2019-10-03</td>\n",
              "      <td>99.564103</td>\n",
              "    </tr>\n",
              "    <tr>\n",
              "      <th>4</th>\n",
              "      <td>2019-10-04</td>\n",
              "      <td>94.846154</td>\n",
              "    </tr>\n",
              "  </tbody>\n",
              "</table>\n",
              "</div>"
            ],
            "text/plain": [
              "        Date      median\n",
              "0 2019-09-30   85.500000\n",
              "1 2019-10-01   99.807692\n",
              "2 2019-10-02  112.076923\n",
              "3 2019-10-03   99.564103\n",
              "4 2019-10-04   94.846154"
            ]
          },
          "metadata": {
            "tags": []
          },
          "execution_count": 17
        }
      ]
    },
    {
      "cell_type": "code",
      "metadata": {
        "id": "5gh2qxxsOYIr"
      },
      "source": [
        "# df3= before covid\n",
        "# df2 = after covid"
      ],
      "execution_count": null,
      "outputs": []
    },
    {
      "cell_type": "markdown",
      "metadata": {
        "id": "YgVJXT5bAOMZ"
      },
      "source": [
        "## Split Dataset into X and Y: (Features and labels)"
      ]
    },
    {
      "cell_type": "code",
      "metadata": {
        "id": "X0ctmNI2M-LE"
      },
      "source": [
        "#feature= aqi\n",
        "X = df_old[['Date']]\n",
        "y = df_old[['median']]"
      ],
      "execution_count": null,
      "outputs": []
    },
    {
      "cell_type": "markdown",
      "metadata": {
        "id": "-r_TEHLAAYYq"
      },
      "source": [
        "## Tried implementing linear regression"
      ]
    },
    {
      "cell_type": "code",
      "metadata": {
        "id": "OrE3ex5JlBi-"
      },
      "source": [
        "from sklearn.model_selection import train_test_split\n",
        "X_train, X_test, y_train, y_test = train_test_split(X, y, test_size=0.33,random_state=9)"
      ],
      "execution_count": null,
      "outputs": []
    },
    {
      "cell_type": "code",
      "metadata": {
        "id": "QdAN1njTieKc"
      },
      "source": [
        "from sklearn.preprocessing import StandardScaler\n",
        "sc = StandardScaler()\n",
        "X_train = sc.fit_transform(X_train)\n",
        "X_test = sc.fit_transform(X_test)"
      ],
      "execution_count": null,
      "outputs": []
    },
    {
      "cell_type": "code",
      "metadata": {
        "colab": {
          "base_uri": "https://localhost:8080/"
        },
        "id": "WI24Unl5Shoc",
        "outputId": "4f30412e-dcf1-47a5-811e-d1409ec6cf94"
      },
      "source": [
        "from sklearn.linear_model import LinearRegression\n",
        "linear_reg = LinearRegression()\n",
        "linear_reg.fit(X_train,y_train)"
      ],
      "execution_count": null,
      "outputs": [
        {
          "output_type": "execute_result",
          "data": {
            "text/plain": [
              "LinearRegression(copy_X=True, fit_intercept=True, n_jobs=None, normalize=False)"
            ]
          },
          "metadata": {
            "tags": []
          },
          "execution_count": 22
        }
      ]
    },
    {
      "cell_type": "code",
      "metadata": {
        "colab": {
          "base_uri": "https://localhost:8080/"
        },
        "id": "QNkdSVUniRpt",
        "outputId": "e8aa26d6-8503-49a2-a019-364e14205d86"
      },
      "source": [
        "y_pred = linear_reg.predict(X_test)\n",
        "y_pred[:10]"
      ],
      "execution_count": null,
      "outputs": [
        {
          "output_type": "execute_result",
          "data": {
            "text/plain": [
              "array([[108.39782604],\n",
              "       [ 92.48913083],\n",
              "       [ 94.47771773],\n",
              "       [104.91779896],\n",
              "       [ 73.59755526],\n",
              "       [ 90.99769065],\n",
              "       [ 83.54048977],\n",
              "       [ 82.04904959],\n",
              "       [ 97.46059808],\n",
              "       [ 95.96915791]])"
            ]
          },
          "metadata": {
            "tags": []
          },
          "execution_count": 23
        }
      ]
    },
    {
      "cell_type": "code",
      "metadata": {
        "colab": {
          "base_uri": "https://localhost:8080/"
        },
        "id": "tK7H8DdBjYue",
        "outputId": "b4288c19-5601-4a0e-bcf9-e0ed9ed96356"
      },
      "source": [
        "score = linear_reg.score(X_test,y_test)\n",
        "score"
      ],
      "execution_count": null,
      "outputs": [
        {
          "output_type": "execute_result",
          "data": {
            "text/plain": [
              "-0.025616583886767463"
            ]
          },
          "metadata": {
            "tags": []
          },
          "execution_count": 24
        }
      ]
    },
    {
      "cell_type": "markdown",
      "metadata": {
        "id": "9gFEQZkPAiEm"
      },
      "source": [
        "But as the score was not pleasing I moved on to using fbprophet module"
      ]
    },
    {
      "cell_type": "code",
      "metadata": {
        "colab": {
          "base_uri": "https://localhost:8080/",
          "height": 405
        },
        "id": "F1BbUx28811s",
        "outputId": "41db87a7-6f6e-4725-c888-9a5b7dbb2c26"
      },
      "source": [
        "fig, ax = plt.subplots()\n",
        "fig.set_size_inches(10, 6)\n",
        "sns.scatterplot(y='median', x='Date', data=df_old)"
      ],
      "execution_count": null,
      "outputs": [
        {
          "output_type": "execute_result",
          "data": {
            "text/plain": [
              "<matplotlib.axes._subplots.AxesSubplot at 0x7f0ea9039350>"
            ]
          },
          "metadata": {
            "tags": []
          },
          "execution_count": 25
        },
        {
          "output_type": "display_data",
          "data": {
            "image/png": "[encoded data removed]",
            "text/plain": [
              "<Figure size 720x432 with 1 Axes>"
            ]
          },
          "metadata": {
            "tags": [],
            "needs_background": "light"
          }
        }
      ]
    },
    {
      "cell_type": "markdown",
      "metadata": {
        "id": "TZ0xlkFL9HLC"
      },
      "source": [
        "As it is visible from the plot above, the data doesnot follow a linear trend, hence we switched to FBProphet.\\\n",
        "Prophet is a procedure for forecasting time series data based on an additive model where non-linear trends are fit with yearly, weekly, and daily seasonality, plus holiday effects. It works best with time series that have strong seasonal effects and several seasons of historical data. Prophet is robust to missing data and shifts in the trend, and typically handles outliers well."
      ]
    },
    {
      "cell_type": "markdown",
      "metadata": {
        "id": "53VRR3PDA2ia"
      },
      "source": [
        "## Fbprophet predictions"
      ]
    },
    {
      "cell_type": "code",
      "metadata": {
        "id": "i11dW2077NNR"
      },
      "source": [
        "import pystan\n",
        "from fbprophet import Prophet"
      ],
      "execution_count": null,
      "outputs": []
    },
    {
      "cell_type": "code",
      "metadata": {
        "id": "9VanBmsweygi"
      },
      "source": [
        "# Left the last 20 observations for testing our model.\n",
        "X_train = X[:-20].values\n",
        "X_test = X[-20:].rename(columns = {\"Date\":\"ds\"})\n",
        "y_train = y[:-20].values\n",
        "y_test = y[-20:].values"
      ],
      "execution_count": null,
      "outputs": []
    },
    {
      "cell_type": "markdown",
      "metadata": {
        "id": "WiZIteBuA9L9"
      },
      "source": [
        "It is a required for the date column to be named ds and the label column to be named y in order to implement fbprophet"
      ]
    },
    {
      "cell_type": "code",
      "metadata": {
        "id": "08Md7qFcBiXj"
      },
      "source": [
        "# Creating a training dataset by clubbing the x_train and y_train\n",
        "train = pd.DataFrame()\n",
        "train['ds'] = X_train.reshape(-1)\n",
        "train['y'] = y_train.reshape(-1)"
      ],
      "execution_count": null,
      "outputs": []
    },
    {
      "cell_type": "code",
      "metadata": {
        "colab": {
          "base_uri": "https://localhost:8080/",
          "height": 202
        },
        "id": "3gQzfwPNBzGo",
        "outputId": "4f360015-94d0-429b-b026-6b4a5ca4daf7"
      },
      "source": [
        "train.head()"
      ],
      "execution_count": null,
      "outputs": [
        {
          "output_type": "execute_result",
          "data": {
            "text/html": [
              "<div>\n",
              "<style scoped>\n",
              "    .dataframe tbody tr th:only-of-type {\n",
              "        vertical-align: middle;\n",
              "    }\n",
              "\n",
              "    .dataframe tbody tr th {\n",
              "        vertical-align: top;\n",
              "    }\n",
              "\n",
              "    .dataframe thead th {\n",
              "        text-align: right;\n",
              "    }\n",
              "</style>\n",
              "<table border=\"1\" class=\"dataframe\">\n",
              "  <thead>\n",
              "    <tr style=\"text-align: right;\">\n",
              "      <th></th>\n",
              "      <th>ds</th>\n",
              "      <th>y</th>\n",
              "    </tr>\n",
              "  </thead>\n",
              "  <tbody>\n",
              "    <tr>\n",
              "      <th>0</th>\n",
              "      <td>2019-09-30</td>\n",
              "      <td>85.500000</td>\n",
              "    </tr>\n",
              "    <tr>\n",
              "      <th>1</th>\n",
              "      <td>2019-10-01</td>\n",
              "      <td>99.807692</td>\n",
              "    </tr>\n",
              "    <tr>\n",
              "      <th>2</th>\n",
              "      <td>2019-10-02</td>\n",
              "      <td>112.076923</td>\n",
              "    </tr>\n",
              "    <tr>\n",
              "      <th>3</th>\n",
              "      <td>2019-10-03</td>\n",
              "      <td>99.564103</td>\n",
              "    </tr>\n",
              "    <tr>\n",
              "      <th>4</th>\n",
              "      <td>2019-10-04</td>\n",
              "      <td>94.846154</td>\n",
              "    </tr>\n",
              "  </tbody>\n",
              "</table>\n",
              "</div>"
            ],
            "text/plain": [
              "          ds           y\n",
              "0 2019-09-30   85.500000\n",
              "1 2019-10-01   99.807692\n",
              "2 2019-10-02  112.076923\n",
              "3 2019-10-03   99.564103\n",
              "4 2019-10-04   94.846154"
            ]
          },
          "metadata": {
            "tags": []
          },
          "execution_count": 29
        }
      ]
    },
    {
      "cell_type": "code",
      "metadata": {
        "colab": {
          "base_uri": "https://localhost:8080/"
        },
        "id": "hAHps0taDBry",
        "outputId": "c231f503-1483-410f-bf23-b6313202efc6"
      },
      "source": [
        "# define the model\n",
        "model = Prophet()\n",
        "# fit the model\n",
        "model.fit(train)"
      ],
      "execution_count": null,
      "outputs": [
        {
          "output_type": "stream",
          "text": [
            "INFO:fbprophet:Disabling yearly seasonality. Run prophet with yearly_seasonality=True to override this.\n",
            "INFO:fbprophet:Disabling daily seasonality. Run prophet with daily_seasonality=True to override this.\n"
          ],
          "name": "stderr"
        },
        {
          "output_type": "execute_result",
          "data": {
            "text/plain": [
              "<fbprophet.forecaster.Prophet at 0x7f0ea3ee79d0>"
            ]
          },
          "metadata": {
            "tags": []
          },
          "execution_count": 30
        }
      ]
    },
    {
      "cell_type": "code",
      "metadata": {
        "id": "PnGhgAmjv5Jh"
      },
      "source": [
        "forecast = model.predict(X_test)"
      ],
      "execution_count": null,
      "outputs": []
    },
    {
      "cell_type": "code",
      "metadata": {
        "colab": {
          "base_uri": "https://localhost:8080/",
          "height": 202
        },
        "id": "WNqIB9BlwCgQ",
        "outputId": "bd05d8eb-ff67-4ea0-eca3-fb1adc85e013"
      },
      "source": [
        "forecast[['ds', 'yhat', 'yhat_lower', 'yhat_upper']].head()"
      ],
      "execution_count": null,
      "outputs": [
        {
          "output_type": "execute_result",
          "data": {
            "text/html": [
              "<div>\n",
              "<style scoped>\n",
              "    .dataframe tbody tr th:only-of-type {\n",
              "        vertical-align: middle;\n",
              "    }\n",
              "\n",
              "    .dataframe tbody tr th {\n",
              "        vertical-align: top;\n",
              "    }\n",
              "\n",
              "    .dataframe thead th {\n",
              "        text-align: right;\n",
              "    }\n",
              "</style>\n",
              "<table border=\"1\" class=\"dataframe\">\n",
              "  <thead>\n",
              "    <tr style=\"text-align: right;\">\n",
              "      <th></th>\n",
              "      <th>ds</th>\n",
              "      <th>yhat</th>\n",
              "      <th>yhat_lower</th>\n",
              "      <th>yhat_upper</th>\n",
              "    </tr>\n",
              "  </thead>\n",
              "  <tbody>\n",
              "    <tr>\n",
              "      <th>0</th>\n",
              "      <td>2019-12-17</td>\n",
              "      <td>113.045912</td>\n",
              "      <td>82.803493</td>\n",
              "      <td>143.463282</td>\n",
              "    </tr>\n",
              "    <tr>\n",
              "      <th>1</th>\n",
              "      <td>2019-12-18</td>\n",
              "      <td>124.111697</td>\n",
              "      <td>94.171539</td>\n",
              "      <td>152.404783</td>\n",
              "    </tr>\n",
              "    <tr>\n",
              "      <th>2</th>\n",
              "      <td>2019-12-19</td>\n",
              "      <td>115.607810</td>\n",
              "      <td>85.945177</td>\n",
              "      <td>146.527828</td>\n",
              "    </tr>\n",
              "    <tr>\n",
              "      <th>3</th>\n",
              "      <td>2019-12-20</td>\n",
              "      <td>118.252609</td>\n",
              "      <td>88.907419</td>\n",
              "      <td>147.361636</td>\n",
              "    </tr>\n",
              "    <tr>\n",
              "      <th>4</th>\n",
              "      <td>2019-12-21</td>\n",
              "      <td>126.528874</td>\n",
              "      <td>97.286332</td>\n",
              "      <td>157.116095</td>\n",
              "    </tr>\n",
              "  </tbody>\n",
              "</table>\n",
              "</div>"
            ],
            "text/plain": [
              "          ds        yhat  yhat_lower  yhat_upper\n",
              "0 2019-12-17  113.045912   82.803493  143.463282\n",
              "1 2019-12-18  124.111697   94.171539  152.404783\n",
              "2 2019-12-19  115.607810   85.945177  146.527828\n",
              "3 2019-12-20  118.252609   88.907419  147.361636\n",
              "4 2019-12-21  126.528874   97.286332  157.116095"
            ]
          },
          "metadata": {
            "tags": []
          },
          "execution_count": 32
        }
      ]
    },
    {
      "cell_type": "code",
      "metadata": {
        "id": "Kq1SPgfKwjia"
      },
      "source": [
        "from sklearn.metrics import mean_absolute_error"
      ],
      "execution_count": null,
      "outputs": []
    },
    {
      "cell_type": "code",
      "metadata": {
        "colab": {
          "base_uri": "https://localhost:8080/"
        },
        "id": "NvD1QIUTwKmb",
        "outputId": "c9b5611a-94a6-470c-9ebd-470084e80390"
      },
      "source": [
        "y_pred = forecast['yhat'].values\n",
        "mae = mean_absolute_error(y_test, y_pred)\n",
        "print('MAE: %.3f' % mae)"
      ],
      "execution_count": null,
      "outputs": [
        {
          "output_type": "stream",
          "text": [
            "MAE: 24.435\n"
          ],
          "name": "stdout"
        }
      ]
    },
    {
      "cell_type": "code",
      "metadata": {
        "colab": {
          "base_uri": "https://localhost:8080/"
        },
        "id": "qzpNk5CFxPXa",
        "outputId": "2cf8ba4d-5609-4c7a-cd48-6b2389008404"
      },
      "source": [
        "from sklearn.metrics import mean_squared_error\n",
        "mean_squared_error(y_test, y_pred, squared = False)"
      ],
      "execution_count": null,
      "outputs": [
        {
          "output_type": "execute_result",
          "data": {
            "text/plain": [
              "27.24410433078789"
            ]
          },
          "metadata": {
            "tags": []
          },
          "execution_count": 35
        }
      ]
    },
    {
      "cell_type": "code",
      "metadata": {
        "colab": {
          "base_uri": "https://localhost:8080/",
          "height": 389
        },
        "id": "ZhJpT6AHw9qA",
        "outputId": "db952047-2da1-44b3-bcf6-51b9fae6e4cb"
      },
      "source": [
        "fig, ax = plt.subplots()\n",
        "fig.set_size_inches(12, 6)\n",
        "plt.plot(X_test,y_test, label='Actual')\n",
        "plt.plot(X_test,y_pred, label='Predicted')\n",
        "plt.xlabel('Date')\n",
        "plt.ylabel('Median AQI')\n",
        "plt.legend()\n",
        "plt.show()"
      ],
      "execution_count": null,
      "outputs": [
        {
          "output_type": "display_data",
          "data": {
            "image/png": "[encoded data removed]",
            "text/plain": [
              "<Figure size 864x432 with 1 Axes>"
            ]
          },
          "metadata": {
            "tags": [],
            "needs_background": "light"
          }
        }
      ]
    },
    {
      "cell_type": "code",
      "metadata": {
        "id": "XJVP8zcAz03s"
      },
      "source": [
        "df_new2 = df_new.rename(columns = {\"Date\":\"ds\", \"median\":\"y\"})"
      ],
      "execution_count": null,
      "outputs": []
    },
    {
      "cell_type": "code",
      "metadata": {
        "id": "3DYAt0m10yoV"
      },
      "source": [
        "forecast2 = model.predict(df_new2.drop('y', axis=1))"
      ],
      "execution_count": null,
      "outputs": []
    },
    {
      "cell_type": "code",
      "metadata": {
        "colab": {
          "base_uri": "https://localhost:8080/",
          "height": 306
        },
        "id": "WlA2LyQ61ILG",
        "outputId": "bc08ce7a-cd4a-4d10-c0dc-baa50a081276"
      },
      "source": [
        "forecast2.head()"
      ],
      "execution_count": null,
      "outputs": [
        {
          "output_type": "execute_result",
          "data": {
            "text/html": [
              "<div>\n",
              "<style scoped>\n",
              "    .dataframe tbody tr th:only-of-type {\n",
              "        vertical-align: middle;\n",
              "    }\n",
              "\n",
              "    .dataframe tbody tr th {\n",
              "        vertical-align: top;\n",
              "    }\n",
              "\n",
              "    .dataframe thead th {\n",
              "        text-align: right;\n",
              "    }\n",
              "</style>\n",
              "<table border=\"1\" class=\"dataframe\">\n",
              "  <thead>\n",
              "    <tr style=\"text-align: right;\">\n",
              "      <th></th>\n",
              "      <th>ds</th>\n",
              "      <th>trend</th>\n",
              "      <th>yhat_lower</th>\n",
              "      <th>yhat_upper</th>\n",
              "      <th>trend_lower</th>\n",
              "      <th>trend_upper</th>\n",
              "      <th>additive_terms</th>\n",
              "      <th>additive_terms_lower</th>\n",
              "      <th>additive_terms_upper</th>\n",
              "      <th>weekly</th>\n",
              "      <th>weekly_lower</th>\n",
              "      <th>weekly_upper</th>\n",
              "      <th>multiplicative_terms</th>\n",
              "      <th>multiplicative_terms_lower</th>\n",
              "      <th>multiplicative_terms_upper</th>\n",
              "      <th>yhat</th>\n",
              "    </tr>\n",
              "  </thead>\n",
              "  <tbody>\n",
              "    <tr>\n",
              "      <th>0</th>\n",
              "      <td>2020-12-28</td>\n",
              "      <td>316.393008</td>\n",
              "      <td>280.722274</td>\n",
              "      <td>337.790562</td>\n",
              "      <td>316.392911</td>\n",
              "      <td>316.393106</td>\n",
              "      <td>-6.179240</td>\n",
              "      <td>-6.179240</td>\n",
              "      <td>-6.179240</td>\n",
              "      <td>-6.179240</td>\n",
              "      <td>-6.179240</td>\n",
              "      <td>-6.179240</td>\n",
              "      <td>0.0</td>\n",
              "      <td>0.0</td>\n",
              "      <td>0.0</td>\n",
              "      <td>310.213768</td>\n",
              "    </tr>\n",
              "    <tr>\n",
              "      <th>1</th>\n",
              "      <td>2020-12-29</td>\n",
              "      <td>316.926037</td>\n",
              "      <td>286.108683</td>\n",
              "      <td>343.540260</td>\n",
              "      <td>316.925939</td>\n",
              "      <td>316.926136</td>\n",
              "      <td>-2.395129</td>\n",
              "      <td>-2.395129</td>\n",
              "      <td>-2.395129</td>\n",
              "      <td>-2.395129</td>\n",
              "      <td>-2.395129</td>\n",
              "      <td>-2.395129</td>\n",
              "      <td>0.0</td>\n",
              "      <td>0.0</td>\n",
              "      <td>0.0</td>\n",
              "      <td>314.530908</td>\n",
              "    </tr>\n",
              "    <tr>\n",
              "      <th>2</th>\n",
              "      <td>2020-12-30</td>\n",
              "      <td>317.459066</td>\n",
              "      <td>296.252452</td>\n",
              "      <td>354.859942</td>\n",
              "      <td>317.458968</td>\n",
              "      <td>317.459165</td>\n",
              "      <td>8.137627</td>\n",
              "      <td>8.137627</td>\n",
              "      <td>8.137627</td>\n",
              "      <td>8.137627</td>\n",
              "      <td>8.137627</td>\n",
              "      <td>8.137627</td>\n",
              "      <td>0.0</td>\n",
              "      <td>0.0</td>\n",
              "      <td>0.0</td>\n",
              "      <td>325.596693</td>\n",
              "    </tr>\n",
              "    <tr>\n",
              "      <th>3</th>\n",
              "      <td>2020-12-31</td>\n",
              "      <td>317.992095</td>\n",
              "      <td>287.861989</td>\n",
              "      <td>345.853623</td>\n",
              "      <td>317.991996</td>\n",
              "      <td>317.992194</td>\n",
              "      <td>-0.899289</td>\n",
              "      <td>-0.899289</td>\n",
              "      <td>-0.899289</td>\n",
              "      <td>-0.899289</td>\n",
              "      <td>-0.899289</td>\n",
              "      <td>-0.899289</td>\n",
              "      <td>0.0</td>\n",
              "      <td>0.0</td>\n",
              "      <td>0.0</td>\n",
              "      <td>317.092806</td>\n",
              "    </tr>\n",
              "    <tr>\n",
              "      <th>4</th>\n",
              "      <td>2021-01-01</td>\n",
              "      <td>318.525124</td>\n",
              "      <td>289.676252</td>\n",
              "      <td>348.801950</td>\n",
              "      <td>318.525025</td>\n",
              "      <td>318.525224</td>\n",
              "      <td>1.212480</td>\n",
              "      <td>1.212480</td>\n",
              "      <td>1.212480</td>\n",
              "      <td>1.212480</td>\n",
              "      <td>1.212480</td>\n",
              "      <td>1.212480</td>\n",
              "      <td>0.0</td>\n",
              "      <td>0.0</td>\n",
              "      <td>0.0</td>\n",
              "      <td>319.737605</td>\n",
              "    </tr>\n",
              "  </tbody>\n",
              "</table>\n",
              "</div>"
            ],
            "text/plain": [
              "          ds       trend  ...  multiplicative_terms_upper        yhat\n",
              "0 2020-12-28  316.393008  ...                         0.0  310.213768\n",
              "1 2020-12-29  316.926037  ...                         0.0  314.530908\n",
              "2 2020-12-30  317.459066  ...                         0.0  325.596693\n",
              "3 2020-12-31  317.992095  ...                         0.0  317.092806\n",
              "4 2021-01-01  318.525124  ...                         0.0  319.737605\n",
              "\n",
              "[5 rows x 16 columns]"
            ]
          },
          "metadata": {
            "tags": []
          },
          "execution_count": 39
        }
      ]
    },
    {
      "cell_type": "code",
      "metadata": {
        "colab": {
          "base_uri": "https://localhost:8080/"
        },
        "id": "xqVV66q31fVE",
        "outputId": "3dbe1c99-63e7-4928-920c-4534ca0b4e06"
      },
      "source": [
        "y_true = df_new2['y'].values\n",
        "y_pred2 = forecast2['yhat'].values\n",
        "mae = mean_absolute_error(y_true, y_pred2)\n",
        "print('MAE: %.3f' % mae)"
      ],
      "execution_count": null,
      "outputs": [
        {
          "output_type": "stream",
          "text": [
            "MAE: 305.777\n"
          ],
          "name": "stdout"
        }
      ]
    },
    {
      "cell_type": "code",
      "metadata": {
        "id": "nGoWOHSC2YCQ",
        "colab": {
          "base_uri": "https://localhost:8080/",
          "height": 388
        },
        "outputId": "75781ad4-bc32-49bd-8254-fe7955956d61"
      },
      "source": [
        "fig, ax = plt.subplots()\n",
        "fig.set_size_inches(12, 6)\n",
        "plt.plot(df_new2.ds,y_true, label='Actual')\n",
        "plt.plot(df_new2.ds,y_pred2, label='Predicted')\n",
        "plt.xlabel('Date')\n",
        "plt.ylabel('Median AQI')\n",
        "plt.legend()\n",
        "plt.show()"
      ],
      "execution_count": null,
      "outputs": [
        {
          "output_type": "display_data",
          "data": {
            "image/png": "[encoded data removed]",
            "text/plain": [
              "<Figure size 864x432 with 1 Axes>"
            ]
          },
          "metadata": {
            "tags": [],
            "needs_background": "light"
          }
        }
      ]
    }
  ]
}